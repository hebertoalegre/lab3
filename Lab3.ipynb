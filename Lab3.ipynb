{
 "cells": [
  {
   "cell_type": "code",
   "execution_count": 72,
   "id": "34c7359d-f64c-4619-b6d0-7c36952c3527",
   "metadata": {},
   "outputs": [],
   "source": [
    "import re\n",
    "import os\n",
    "import locale\n",
    "import pandas as pd\n",
    "import numpy as np"
   ]
  },
  {
   "cell_type": "markdown",
   "id": "24a34ac5-5636-44f1-b61a-eca5ce523152",
   "metadata": {},
   "source": [
    "# **Problema 1:**\r\n",
    "Utilice expresiones regulares para validar las siguintes situaciones:\r\n",
    "1. Implemente una regex para validar un correo electr´onico en general, a continuaci´on se muestran\r\n",
    "algunos ejemplos.\r\n",
    "Guate.360-porelmundo@miguate.com\r\n",
    "Miercoles3@hotmail.com\r\n",
    "Progra3.galileo@galileo.edu"
   ]
  },
  {
   "cell_type": "code",
   "execution_count": 30,
   "id": "38f285c3-ece1-4e5d-81ad-e8592573415c",
   "metadata": {},
   "outputs": [
    {
     "name": "stdout",
     "output_type": "stream",
     "text": [
      "Guate.360-porelmundo@miguate.com\n",
      "Miercoles3@hotmail.com\n",
      "Progra3.galileo@galileo.edu\n"
     ]
    }
   ],
   "source": [
    "emails = ['Guate.360-porelmundo@miguate.com', 'Miercoles3@hotmail.com',  'Progra3.galileo@galileo.edu', 'mal_correo@mega,com']\n",
    "regex = r'.*?@\\D+\\.\\D+'\n",
    "for email in emails:\n",
    "    x = re.match(regex, email)\n",
    "    if x is not None:\n",
    "        print(x.group())"
   ]
  },
  {
   "cell_type": "markdown",
   "id": "18cbfbd9-aee7-4d26-8a95-926c75ebe82e",
   "metadata": {},
   "source": [
    "\n",
    "2. Implemente  Implemente una regex para validar la direccion url de una pagina web con los tipos de domino\n",
    "(.com, .org, .edu). Note que la url incluye el protocolo (http o https) y los sımbolos (//www.),\n",
    "a continuacion se muestran algunos ejemplos:\n",
    "* https://www.guate360-porelmundo.com\n",
    "* http://www.a2.net\n",
    "* https://www.galileo.edu\n",
    "* http://www.8.org (No valida)"
   ]
  },
  {
   "cell_type": "code",
   "execution_count": 28,
   "id": "b7b7993a-64f1-4988-9830-18103049bf70",
   "metadata": {},
   "outputs": [
    {
     "name": "stdout",
     "output_type": "stream",
     "text": [
      "https://www.guate360-porelmundo.com\n",
      "https://www.galileo.edu\n",
      "http://www.8.org\n"
     ]
    }
   ],
   "source": [
    "urls = [\"https://www.guate360-porelmundo.com\",  \"http://www.a2.net\",  \"https://www.galileo.edu\",  \"http://www.8.org\" ]\n",
    "regex = r\"^(https?:\\/\\/www\\.)[a-zA-Z0-9\\-]+\\.(com|org|edu)$\"\n",
    "\n",
    "for url in urls:\n",
    "    x = re.match(regex, url)\n",
    "    if x is not None:\n",
    "        print(x.group())"
   ]
  },
  {
   "cell_type": "markdown",
   "id": "d494100a-359a-4cd1-9309-4bce278e5b2f",
   "metadata": {},
   "source": [
    "3. Implemente una regex para validar una MAC Address, notar que las mac addres est´an divididas \n",
    "en 6 bloques de caracteres hexadecimales, es decir que los s´ımbolos solo pueden varia \r\n",
    "del 0 al 9 y las letras de la A a la F. a continuai´on se muestran algunos ejempl\n",
    "* :\r\n",
    "5A 6F AF 8C 9B   * 1D\r\n",
    "6D 6C 4D 3A E\n",
    "*  3F\r\n",
    "3A 7C FA C8 6D 4J (no valida por que el ultimo bloque contiene una J)"
   ]
  },
  {
   "cell_type": "code",
   "execution_count": 46,
   "id": "4cf53349-32d4-4441-a84e-950aad0fa117",
   "metadata": {},
   "outputs": [
    {
     "name": "stdout",
     "output_type": "stream",
     "text": [
      "5A 6F AF 8C 9B 1D\n",
      "6D 6C 4D 3A EB 3F\n"
     ]
    }
   ],
   "source": [
    "mac_addresses = [\"5A 6F AF 8C 9B 1D\", \"6D 6C 4D 3A EB 3F\", \"3A 7C FA C8 6D 4J\"]\n",
    "regex = r'^([\\dA-F]{2}\\s){5}[\\dA-F]{2}$'\n",
    "\n",
    "for mac in mac_addresses:\n",
    "    x = re.match(regex, mac)\n",
    "    if x is not None:\n",
    "        print(x.group())"
   ]
  },
  {
   "cell_type": "markdown",
   "id": "d9dc99bd-e3c4-4886-b19b-b09f7654d06d",
   "metadata": {},
   "source": [
    "4. Implemente una regex para validar una direcci´on IPv4, notar que las direcciones IPv4 est´an divididas en 4 bloques de valores los cuales solo pueden ir desde 0 hasta 255, una ip donde\n",
    "algunos de sus bloques sea mayor a 255 no es valida, adem´as tome en cuenta que cada bloque est´a separada por un punto. A continuaci´on se muestran algunos ejemplos:\n",
    "\n",
    "* 192.16.8.1\n",
    "* 234.56.78.90\n",
    "* 1.2.3.4\n",
    "* 192.168.45.345"
   ]
  },
  {
   "cell_type": "code",
   "execution_count": 52,
   "id": "dc5270c8-5abb-45a1-be55-30c9e619e445",
   "metadata": {},
   "outputs": [
    {
     "name": "stdout",
     "output_type": "stream",
     "text": [
      "192.16.8.1\n",
      "234.56.78.90\n",
      "1.2.3.4\n"
     ]
    }
   ],
   "source": [
    "ips = [ \"192.16.8.1\", \"234.56.78.90\", \"1.2.3.4\", \"192.168.45.345\" ]\n",
    "regex = r\"^((25[0-5]|2[0-4][0-9]|1[0-9]{2}|[1-9]?[0-9])\\.){3}(25[0-5]|2[0-4][0-9]|1[0-9]{2}|[1-9]?[0-9])$\"\n",
    "\n",
    "for ip in ips:\n",
    "    x = re.match(regex, ip)\n",
    "    if x is not None:\n",
    "        print(x.group())"
   ]
  },
  {
   "cell_type": "markdown",
   "id": "7efa3928-fb01-4063-9562-603e7d1f1260",
   "metadata": {},
   "source": [
    "5. Implemente una regex para validar una fecha con la secuencia d´ıa-mes-a˜no donde el d´ıa, mes \n",
    "y a˜no puedan estar separados ya sea por el caracter / o el caracter - o el caracter ., nota \r\n",
    "que las fechas son validas si los si los d´ıas est´an definidos desde el 1 al 31, el mes del 1 al 12\r\n",
    "y el a˜no de 2000 al 2019. Tambi´en debe tomar en cuenta que los d´ıas y meses pueden es ar\r\n",
    "escritos ya sea con uno o dos caracteres por ejemplo: Enero puede escribirse como 1 o  omo\r\n",
    "01. Los a˜nos tambi´en pueden expresarse ya sea con dos o con cuatro caracteres por eje plo:\r\n",
    "19 o 2019 son validos. A continuaci´on se muestran algunos eje\n",
    "m* plos:\r\n",
    "20/* 1/2019\r\n",
    "12.* 03.2005\r\n",
    "* 31-11-08\r",
    "* \n",
    "1-1-2012\r\n",
    "12-12-22 (no valida, por que el a˜no supera al 2019)."
   ]
  },
  {
   "cell_type": "code",
   "execution_count": 53,
   "id": "6ed5eef6-7e07-4927-976d-2c5bbc6fa775",
   "metadata": {},
   "outputs": [
    {
     "name": "stdout",
     "output_type": "stream",
     "text": [
      "20/1/2019\n",
      "12.03.2005\n",
      "31-11-08\n",
      "1-1-2012\n"
     ]
    }
   ],
   "source": [
    "fechas = [ \"20/1/2019\", \"12.03.2005\", \"31-11-08\", \"1-1-2012\", \"12-12-22\" ]\n",
    "regex = r'^(0?[1-9]|[12][0-9]|3[01])[\\/\\-.](0?[1-9]|1[0-2])[\\/\\-.](20[0-1][0-9]|[0-1][0-9])$'\n",
    "\n",
    "for fecha in fechas:\n",
    "    x = re.match(regex, fecha)\n",
    "    if x is not None:\n",
    "        print(x.group())"
   ]
  },
  {
   "cell_type": "markdown",
   "id": "b8359b16-4503-47a9-8c71-0b7ce3e69e8d",
   "metadata": {},
   "source": [
    "# **Problema 2:**\n",
    "En la carpeta encontrar´a adjuntos 21 documentos que tiene 100 fechas en la secuencia d´ıas-mes-a˜no\n",
    "pero con distinto separador y distinto formato de mes, en algunos casos aparece un numero y en\n",
    "otros el nombre del mes en ingles, por ejemplo: Enero pueder aparecer como 1 o como Jan.\n",
    "Utilice Python y expresiones regulares para encontrar el d´ıa, mes y a˜no promedio total del los 21\n",
    "archivos, los resultados deben ser un double.\n"
   ]
  },
  {
   "cell_type": "code",
   "execution_count": 80,
   "id": "09d2c505-cded-4881-b90f-6e484b657ccc",
   "metadata": {},
   "outputs": [
    {
     "name": "stdout",
     "output_type": "stream",
     "text": [
      "\n",
      "        media de dia es 15.624290957624291\n",
      "        media de mes es 6.466895466895467\n",
      "        media de ano es 2016.6862576862577\n",
      "        \n"
     ]
    }
   ],
   "source": [
    "meses = {'Jan': 1, 'Feb': 2, 'Mar': 3, 'Apr': 4, 'May': 5, 'Jun': 6, 'Jul': 7, 'Aug': 8, 'Sep': 9, 'Oct': 10, 'Nov': 11, 'Dec': 12}\n",
    "\n",
    "regex = r'(\\d{1,2})[\\/\\-. ](Jan|Feb|Mar|Apr|May|Jun|Jul|Aug|Sep|Oct|Nov|Dec|\\d{1,2})[\\/\\-. ](\\d{2,4})'\n",
    "\n",
    "ruta = r'C:\\Users\\DELL\\Documents\\galileo\\textmining\\Lab3\\Lab3\\Datos'\n",
    "files = os.listdir(ruta)\n",
    "\n",
    "ano = []\n",
    "mes = []\n",
    "dia = []\n",
    "\n",
    "for file in files:\n",
    "    df = \" \".join(pd.read_csv(os.path.join(ruta, file)).iloc[:,0].tolist())\n",
    "    fechas = re.findall(regex, df)\n",
    "    for d, m, a in fechas:\n",
    "        dia.append(int(d))\n",
    "        ano.append(int(a))\n",
    "        if m.isdigit():\n",
    "            mes.append(int(m))\n",
    "        else:\n",
    "            mes.append(meses[m])\n",
    "print(f'''\n",
    "        media de dia es {np.mean(dia)}\n",
    "        media de mes es {np.mean(mes)}\n",
    "        media de ano es {np.mean(ano)}\n",
    "        ''')"
   ]
  },
  {
   "cell_type": "markdown",
   "id": "d812767b-e0fc-429f-858e-fbffc8754218",
   "metadata": {},
   "source": [
    "# **PROBLEMA 3**\n",
    "\n",
    "Por favor revisar el siguiente url: https://colab.research.google.com/drive/1YhGlQSqqIi2_P36Y07sDduNFyTTofkfN?usp=sharing"
   ]
  },
  {
   "cell_type": "code",
   "execution_count": null,
   "id": "017e2ff6-ad5d-4f20-b22a-14ced9e81c32",
   "metadata": {},
   "outputs": [],
   "source": []
  },
  {
   "cell_type": "code",
   "execution_count": null,
   "id": "51ea65f3-e6a5-4ac5-8032-8fccd67fa50f",
   "metadata": {},
   "outputs": [],
   "source": []
  }
 ],
 "metadata": {
  "kernelspec": {
   "display_name": "Python 3 (ipykernel)",
   "language": "python",
   "name": "python3"
  },
  "language_info": {
   "codemirror_mode": {
    "name": "ipython",
    "version": 3
   },
   "file_extension": ".py",
   "mimetype": "text/x-python",
   "name": "python",
   "nbconvert_exporter": "python",
   "pygments_lexer": "ipython3",
   "version": "3.12.4"
  }
 },
 "nbformat": 4,
 "nbformat_minor": 5
}
